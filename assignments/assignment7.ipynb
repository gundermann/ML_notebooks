{
 "cells": [
  {
   "cell_type": "markdown",
   "metadata": {},
   "source": [
    "# Conceptual"
   ]
  },
  {
   "cell_type": "markdown",
   "metadata": {},
   "source": [
    "# Practical"
   ]
  },
  {
   "cell_type": "markdown",
   "metadata": {},
   "source": [
    "## 1. Generate data and get an overview of the data"
   ]
  },
  {
   "cell_type": "code",
   "execution_count": 15,
   "metadata": {},
   "outputs": [
    {
     "data": {
      "image/png": "[encoded data removed]",
      "text/plain": [
       "<Figure size 640x480 with 1 Axes>"
      ]
     },
     "metadata": {},
     "output_type": "display_data"
    }
   ],
   "source": [
    "import numpy as np\n",
    "import matplotlib.pyplot as plt\n",
    "\n",
    "np.random.seed(1)\n",
    "x = np.random.standard_normal((20,2))\n",
    "\n",
    "y = np.array([-1]*10 + [1] * 10)\n",
    "x[y==1,:] = x[y==1,:] + 1\n",
    "plt.scatter(x[:,0], x[:,1], c=y, cmap='flag')\n",
    "plt.show() # not linear separable"
   ]
  },
  {
   "cell_type": "code",
   "execution_count": 16,
   "metadata": {},
   "outputs": [
    {
     "name": "stdout",
     "output_type": "stream",
     "text": [
      "[[ 1.62434536 -0.61175641]\n",
      " [-0.52817175 -1.07296862]\n",
      " [ 0.86540763 -2.3015387 ]\n",
      " [ 1.74481176 -0.7612069 ]\n",
      " [ 0.3190391  -0.24937038]\n",
      " [ 1.46210794 -2.06014071]\n",
      " [-0.3224172  -0.38405435]\n",
      " [ 1.13376944 -1.09989127]\n",
      " [-0.17242821 -0.87785842]\n",
      " [ 0.04221375  0.58281521]\n",
      " [-0.10061918  2.14472371]\n",
      " [ 1.90159072  1.50249434]\n",
      " [ 1.90085595  0.31627214]\n",
      " [ 0.87710977  0.06423057]\n",
      " [ 0.73211192  1.53035547]\n",
      " [ 0.30833925  0.60324647]\n",
      " [ 0.3128273   0.15479436]\n",
      " [ 0.32875387  0.9873354 ]\n",
      " [-0.11731035  1.2344157 ]\n",
      " [ 2.65980218  1.74204416]]\n",
      "[-1 -1 -1 -1 -1 -1 -1 -1 -1 -1  1  1  1  1  1  1  1  1  1  1]\n"
     ]
    }
   ],
   "source": [
    "print(x)\n",
    "print(y)"
   ]
  },
  {
   "cell_type": "markdown",
   "metadata": {},
   "source": [
    "## 2. Learn and assess an support vector (soft margin) classifier"
   ]
  },
  {
   "cell_type": "code",
   "execution_count": 18,
   "metadata": {},
   "outputs": [
    {
     "data": {
      "text/html": [
       "<div>\n",
       "<style scoped>\n",
       "    .dataframe tbody tr th:only-of-type {\n",
       "        vertical-align: middle;\n",
       "    }\n",
       "\n",
       "    .dataframe tbody tr th {\n",
       "        vertical-align: top;\n",
       "    }\n",
       "\n",
       "    .dataframe thead th {\n",
       "        text-align: right;\n",
       "    }\n",
       "</style>\n",
       "<table border=\"1\" class=\"dataframe\">\n",
       "  <thead>\n",
       "    <tr style=\"text-align: right;\">\n",
       "      <th></th>\n",
       "      <th>x1</th>\n",
       "      <th>x2</th>\n",
       "      <th>y</th>\n",
       "    </tr>\n",
       "  </thead>\n",
       "  <tbody>\n",
       "    <tr>\n",
       "      <th>0</th>\n",
       "      <td>1.624345</td>\n",
       "      <td>-0.611756</td>\n",
       "      <td>-1</td>\n",
       "    </tr>\n",
       "    <tr>\n",
       "      <th>1</th>\n",
       "      <td>-0.528172</td>\n",
       "      <td>-1.072969</td>\n",
       "      <td>-1</td>\n",
       "    </tr>\n",
       "    <tr>\n",
       "      <th>2</th>\n",
       "      <td>0.865408</td>\n",
       "      <td>-2.301539</td>\n",
       "      <td>-1</td>\n",
       "    </tr>\n",
       "    <tr>\n",
       "      <th>3</th>\n",
       "      <td>1.744812</td>\n",
       "      <td>-0.761207</td>\n",
       "      <td>-1</td>\n",
       "    </tr>\n",
       "    <tr>\n",
       "      <th>4</th>\n",
       "      <td>0.319039</td>\n",
       "      <td>-0.249370</td>\n",
       "      <td>-1</td>\n",
       "    </tr>\n",
       "    <tr>\n",
       "      <th>5</th>\n",
       "      <td>1.462108</td>\n",
       "      <td>-2.060141</td>\n",
       "      <td>-1</td>\n",
       "    </tr>\n",
       "    <tr>\n",
       "      <th>6</th>\n",
       "      <td>-0.322417</td>\n",
       "      <td>-0.384054</td>\n",
       "      <td>-1</td>\n",
       "    </tr>\n",
       "    <tr>\n",
       "      <th>7</th>\n",
       "      <td>1.133769</td>\n",
       "      <td>-1.099891</td>\n",
       "      <td>-1</td>\n",
       "    </tr>\n",
       "    <tr>\n",
       "      <th>8</th>\n",
       "      <td>-0.172428</td>\n",
       "      <td>-0.877858</td>\n",
       "      <td>-1</td>\n",
       "    </tr>\n",
       "    <tr>\n",
       "      <th>9</th>\n",
       "      <td>0.042214</td>\n",
       "      <td>0.582815</td>\n",
       "      <td>-1</td>\n",
       "    </tr>\n",
       "    <tr>\n",
       "      <th>10</th>\n",
       "      <td>-0.100619</td>\n",
       "      <td>2.144724</td>\n",
       "      <td>1</td>\n",
       "    </tr>\n",
       "    <tr>\n",
       "      <th>11</th>\n",
       "      <td>1.901591</td>\n",
       "      <td>1.502494</td>\n",
       "      <td>1</td>\n",
       "    </tr>\n",
       "    <tr>\n",
       "      <th>12</th>\n",
       "      <td>1.900856</td>\n",
       "      <td>0.316272</td>\n",
       "      <td>1</td>\n",
       "    </tr>\n",
       "    <tr>\n",
       "      <th>13</th>\n",
       "      <td>0.877110</td>\n",
       "      <td>0.064231</td>\n",
       "      <td>1</td>\n",
       "    </tr>\n",
       "    <tr>\n",
       "      <th>14</th>\n",
       "      <td>0.732112</td>\n",
       "      <td>1.530355</td>\n",
       "      <td>1</td>\n",
       "    </tr>\n",
       "    <tr>\n",
       "      <th>15</th>\n",
       "      <td>0.308339</td>\n",
       "      <td>0.603246</td>\n",
       "      <td>1</td>\n",
       "    </tr>\n",
       "    <tr>\n",
       "      <th>16</th>\n",
       "      <td>0.312827</td>\n",
       "      <td>0.154794</td>\n",
       "      <td>1</td>\n",
       "    </tr>\n",
       "    <tr>\n",
       "      <th>17</th>\n",
       "      <td>0.328754</td>\n",
       "      <td>0.987335</td>\n",
       "      <td>1</td>\n",
       "    </tr>\n",
       "    <tr>\n",
       "      <th>18</th>\n",
       "      <td>-0.117310</td>\n",
       "      <td>1.234416</td>\n",
       "      <td>1</td>\n",
       "    </tr>\n",
       "    <tr>\n",
       "      <th>19</th>\n",
       "      <td>2.659802</td>\n",
       "      <td>1.742044</td>\n",
       "      <td>1</td>\n",
       "    </tr>\n",
       "  </tbody>\n",
       "</table>\n",
       "</div>"
      ],
      "text/plain": [
       "          x1        x2  y\n",
       "0   1.624345 -0.611756 -1\n",
       "1  -0.528172 -1.072969 -1\n",
       "2   0.865408 -2.301539 -1\n",
       "3   1.744812 -0.761207 -1\n",
       "4   0.319039 -0.249370 -1\n",
       "5   1.462108 -2.060141 -1\n",
       "6  -0.322417 -0.384054 -1\n",
       "7   1.133769 -1.099891 -1\n",
       "8  -0.172428 -0.877858 -1\n",
       "9   0.042214  0.582815 -1\n",
       "10 -0.100619  2.144724  1\n",
       "11  1.901591  1.502494  1\n",
       "12  1.900856  0.316272  1\n",
       "13  0.877110  0.064231  1\n",
       "14  0.732112  1.530355  1\n",
       "15  0.308339  0.603246  1\n",
       "16  0.312827  0.154794  1\n",
       "17  0.328754  0.987335  1\n",
       "18 -0.117310  1.234416  1\n",
       "19  2.659802  1.742044  1"
      ]
     },
     "execution_count": 18,
     "metadata": {},
     "output_type": "execute_result"
    }
   ],
   "source": [
    "import pandas as pd\n",
    "\n",
    "df = pd.DataFrame({'x1':x[:,0],\n",
    "                    'x2':x[:,1],\n",
    "                    'y':y})\n",
    "\n",
    "df"
   ]
  },
  {
   "cell_type": "code",
   "execution_count": 41,
   "metadata": {},
   "outputs": [
    {
     "name": "stdout",
     "output_type": "stream",
     "text": [
      "coefficients: [[0.65333729 2.35330532]]\n",
      "intercep: [-0.62142132]\n"
     ]
    },
    {
     "data": {
      "image/png": "[encoded data removed]",
      "text/plain": [
       "<Figure size 640x480 with 1 Axes>"
      ]
     },
     "metadata": {},
     "output_type": "display_data"
    }
   ],
   "source": [
    "from sklearn.svm import SVC\n",
    "\n",
    "X = df[['x1', 'x2']]\n",
    "y = df['y']\n",
    "\n",
    "svm = SVC(C=10.0, kernel='linear', random_state=42)\n",
    "svm.fit(X,y)\n",
    "\n",
    "print(f'coefficients: {svm.coef_}')\n",
    "print(f'intercep: {svm.intercept_}')\n",
    "\n",
    "sv_idx = svm.support_\n",
    "\n",
    "\n",
    "hyperplane_function = lambda x: -svm.coef_[0,0]/svm.coef_[0,1] * x - (svm.intercept_/svm.coef_[0,1])\n",
    "\n",
    "plt.plot(X['x1'], np.apply_along_axis(hyperplane_function, 0, x[:,0]))\n",
    "plt.scatter(X[~X['x1'].index.isin(sv_idx)]['x1'], X[~X['x2'].index.isin(sv_idx)]['x2'], c=y[~y.index.isin(sv_idx)], cmap='flag', marker='o')\n",
    "plt.scatter(X[X['x1'].index.isin(sv_idx)]['x1'], X[X['x2'].index.isin(sv_idx)]['x2'], c=y[y.index.isin(sv_idx)], cmap='flag', marker='x')\n",
    "plt.show()"
   ]
  },
  {
   "cell_type": "code",
   "execution_count": 38,
   "metadata": {},
   "outputs": [
    {
     "data": {
      "text/plain": [
       "[0, 3, 4, 6, 9, 12, 13, 15, 16]"
      ]
     },
     "execution_count": 38,
     "metadata": {},
     "output_type": "execute_result"
    }
   ],
   "source": [
    "sv_idx.tolist()"
   ]
  },
  {
   "cell_type": "code",
   "execution_count": 42,
   "metadata": {},
   "outputs": [
    {
     "name": "stdout",
     "output_type": "stream",
     "text": [
      "coefficients: [[0.01797572 0.76322197]]\n",
      "intercep: [-0.18099982]\n",
      "indeces of support vectors: [ 0  3  4  6  7  8  9 11 12 13 14 15 16 17 18]\n"
     ]
    },
    {
     "data": {
      "image/png": "[encoded data removed]",
      "text/plain": [
       "<Figure size 640x480 with 1 Axes>"
      ]
     },
     "metadata": {},
     "output_type": "display_data"
    }
   ],
   "source": [
    "svm = SVC(C=0.1, kernel='linear', random_state=42)\n",
    "svm.fit(X,y)\n",
    "\n",
    "print(f'coefficients: {svm.coef_}')\n",
    "print(f'intercep: {svm.intercept_}')\n",
    "\n",
    "\n",
    "sv_idx = svm.support_\n",
    "print(f'indeces of support vectors: {sv_idx}')\n",
    "\n",
    "\n",
    "hyperplane_function = lambda x: -svm.coef_[0,0]/svm.coef_[0,1] * x - (svm.intercept_/svm.coef_[0,1])\n",
    "\n",
    "plt.plot(X['x1'], np.apply_along_axis(hyperplane_function, 0, x[:,0]))\n",
    "plt.scatter(X[~X['x1'].index.isin(sv_idx)]['x1'], X[~X['x2'].index.isin(sv_idx)]['x2'], c=y[~y.index.isin(sv_idx)], cmap='flag', marker='o')\n",
    "plt.scatter(X[X['x1'].index.isin(sv_idx)]['x1'], X[X['x2'].index.isin(sv_idx)]['x2'], c=y[y.index.isin(sv_idx)], cmap='flag', marker='x')\n",
    "plt.show()"
   ]
  },
  {
   "cell_type": "markdown",
   "metadata": {},
   "source": [
    "### Interprete the results and the variance-bias tradeoff."
   ]
  },
  {
   "cell_type": "markdown",
   "metadata": {},
   "source": []
  },
  {
   "cell_type": "markdown",
   "metadata": {},
   "source": [
    "## 3. Learn and assess an SVM classifier"
   ]
  },
  {
   "cell_type": "markdown",
   "metadata": {},
   "source": [
    "## 4. Learn and assess an SVM classifier for multiple classes"
   ]
  },
  {
   "cell_type": "markdown",
   "metadata": {},
   "source": [
    "## 5. Apply SVM to Gene Expression Data"
   ]
  }
 ],
 "metadata": {
  "kernelspec": {
   "display_name": "homo",
   "language": "python",
   "name": "homo"
  },
  "language_info": {
   "codemirror_mode": {
    "name": "ipython",
    "version": 3
   },
   "file_extension": ".py",
   "mimetype": "text/x-python",
   "name": "python",
   "nbconvert_exporter": "python",
   "pygments_lexer": "ipython3",
   "version": "3.10.12"
  }
 },
 "nbformat": 4,
 "nbformat_minor": 2
}
