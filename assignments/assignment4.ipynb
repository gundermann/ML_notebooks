{
 "cells": [
  {
   "cell_type": "markdown",
   "metadata": {},
   "source": [
    "# *Conceptual*\n",
    "\n",
    "## 1. Discuss the differences between LDA and QDA in terms of their main assumptions about classes, decision boundaries, number of samples, and overfitting\n",
    "\n",
    "The assumptions about the trainingdata are that there could be a dependency between the attributes used for the prediction, but the values of these attributes are normally distributed, when connected to the response class. That means, that all attribute values associated with a specific response class $c_i$, with $i\\in[1,...,K]$ for K classes, show a normal distribution $\\mathcal{N}(\\mu_i, \\sigma_i^2)$. For LDA, however, there is another condition that the covariances of the predictor attributes are the same for all classes: $\\forall i,j \\in [1,...K]: \\sigma_i = \\sigma_j$, so the distribution mentioned above is special for LDA, since there is only one value for the variance: $\\mathcal{N}(\\mu_i, \\sigma^2)$ . QDA drops this assumption, since the covariances of the predictor attributes values associated to different classes can differ.\n",
    "\n",
    "According to the decision boundary, LDA comes with a linear decision boundary, whereas QDA comes with a non linesar decision boundary. However, since LDA and QDA are special cases of the Naive Bayes classification, one can calcuate the probability of the response class instead of the discriminant. Therefore, we can choose a specific decision boundary, to reduce some relevant errors (Type I or Type II error). This could make sense, if the different errors come with different costs we have to take into account making prediction. For example it could be more costly making Type I errors, i.e., in a binary classification the ratio of false predictions of the positive class (False-Negative-rate, FN-rate). In this case we could lower the decision boundary to reduce the FN-rate. However, this will increase the Type II error (False-Positive-rate, FP-Rate). So the selection of the decision boundary depends on the specific use case. Anyway, there is no difference between LDA and QDA in terms of the decision boundary.\n",
    "\n",
    "The number of samples goes together with the aspect of overfitting. In general, ML algorithmis are more likely to get overfitted, the more parameters are involved. Since QDA takes more parameters into account than LDA, QDA is more likely to get overfitted. That QDA comes with more parameters than LDA is caused by the assumption than, in QDA, each groub of predictor attribute values comes with its own covariance. Based on this, it is better to consider QDA only when having a larger sample, than needed for LDA. However, even for LDA the number of samples plays a role. This is (and this holds for both LDA and QDA) because of the relevance of the different means ($\\mu$) used for the calculation according to the assumed normal distribution. Since each groub of predictor attribute values associated with a specific class $c_i$ comes with its own $\\mu_i$, the sufficient number of samples depends not only on the amount of parameters used, but also on the number of classes to predict ($K$), because one need a representative sample for each of the classes to calculate a representation mean.\n",
    "\n",
    "## 2. Regarding KNN\n",
    "\n",
    "### (a) How does the choice of distance metric affect the performance of k-NN classification?\n",
    "KNN relies on the smallest distances between the new/unknown predictor and the known predictors/observations. Therefore, it doesn't matter which distance metric is used, als long as the metric ensures (1) that positive and negative distances wouldn't cancel out each other and (2) that closer observations are interpreted as closer, i.e., when the distance metric function is increasing and not decresind. For example, a distance metric like $\\sum_{i=1}^{p}{\\frac{1}{(x-x_i)^2}}$ with $p$ observations and a new predictor $x$ makes no sense here.\n",
    "\n",
    "\n",
    "### (b) Please also discuss the concept of the curse of dimensionality and its implications for k-NN algorithm\n",
    "The higher the dimensionality of the oberservations, the higher the complexity of the function. This also hold for k-NN, since it takes all the observations into account. Therefore, the calculation is more complex with more dimensions, since there are more distances that need to be calulated and aggregated. Concluding, there are two main drivers for complexity i k-NN, which affects the time effor during calculation. One is the choice of the k parameter. The other is the amount of predictor attributes (dimensions) used. (Of course, there is a third - the chosen distance metric - but this is not as variable.)\n",
    "In terms of interpretability there is also a disadvantage with higher dimensionality. However, this is not special for k-NN but holds in general for ML techniques (Accuray-Interpretability-Trade-off). "
   ]
  },
  {
   "cell_type": "markdown",
   "metadata": {},
   "source": [
    "# *Practical*"
   ]
  },
  {
   "cell_type": "markdown",
   "metadata": {},
   "source": [
    "### I: 1. Load the data and get an overview of the data"
   ]
  },
  {
   "cell_type": "code",
   "execution_count": 119,
   "metadata": {},
   "outputs": [],
   "source": [
    "import pandas as pd\n",
    "\n",
    "df = pd.read_csv('../data/ISLR/data/Smarket.csv', index_col=0)"
   ]
  },
  {
   "cell_type": "markdown",
   "metadata": {},
   "source": [
    "I: Display the number of predictors and possible responses and their names"
   ]
  },
  {
   "cell_type": "code",
   "execution_count": 120,
   "metadata": {},
   "outputs": [
    {
     "name": "stdout",
     "output_type": "stream",
     "text": [
      "['Year' 'Lag1' 'Lag2' 'Lag3' 'Lag4' 'Lag5' 'Volume' 'Today' 'Direction']\n",
      "9\n"
     ]
    }
   ],
   "source": [
    "print(df.columns.values)\n",
    "print(len(df.columns.values))"
   ]
  },
  {
   "cell_type": "markdown",
   "metadata": {},
   "source": [
    "I: Print a statistic summary of the predictors and responses"
   ]
  },
  {
   "cell_type": "code",
   "execution_count": 121,
   "metadata": {},
   "outputs": [
    {
     "name": "stdout",
     "output_type": "stream",
     "text": [
      "Year\n",
      "count    1250.000000\n",
      "mean     2003.016000\n",
      "std         1.409018\n",
      "min      2001.000000\n",
      "25%      2002.000000\n",
      "50%      2003.000000\n",
      "75%      2004.000000\n",
      "max      2005.000000\n",
      "Name: Year, dtype: float64\n",
      "Lag1\n",
      "count    1250.000000\n",
      "mean        0.003834\n",
      "std         1.136299\n",
      "min        -4.922000\n",
      "25%        -0.639500\n",
      "50%         0.039000\n",
      "75%         0.596750\n",
      "max         5.733000\n",
      "Name: Lag1, dtype: float64\n",
      "Lag2\n",
      "count    1250.000000\n",
      "mean        0.003919\n",
      "std         1.136280\n",
      "min        -4.922000\n",
      "25%        -0.639500\n",
      "50%         0.039000\n",
      "75%         0.596750\n",
      "max         5.733000\n",
      "Name: Lag2, dtype: float64\n",
      "Lag3\n",
      "count    1250.000000\n",
      "mean        0.001716\n",
      "std         1.138703\n",
      "min        -4.922000\n",
      "25%        -0.640000\n",
      "50%         0.038500\n",
      "75%         0.596750\n",
      "max         5.733000\n",
      "Name: Lag3, dtype: float64\n",
      "Lag4\n",
      "count    1250.000000\n",
      "mean        0.001636\n",
      "std         1.138774\n",
      "min        -4.922000\n",
      "25%        -0.640000\n",
      "50%         0.038500\n",
      "75%         0.596750\n",
      "max         5.733000\n",
      "Name: Lag4, dtype: float64\n",
      "Lag5\n",
      "count    1250.00000\n",
      "mean        0.00561\n",
      "std         1.14755\n",
      "min        -4.92200\n",
      "25%        -0.64000\n",
      "50%         0.03850\n",
      "75%         0.59700\n",
      "max         5.73300\n",
      "Name: Lag5, dtype: float64\n",
      "Volume\n",
      "count    1250.000000\n",
      "mean        1.478305\n",
      "std         0.360357\n",
      "min         0.356070\n",
      "25%         1.257400\n",
      "50%         1.422950\n",
      "75%         1.641675\n",
      "max         3.152470\n",
      "Name: Volume, dtype: float64\n",
      "Today\n",
      "count    1250.000000\n",
      "mean        0.003138\n",
      "std         1.136334\n",
      "min        -4.922000\n",
      "25%        -0.639500\n",
      "50%         0.038500\n",
      "75%         0.596750\n",
      "max         5.733000\n",
      "Name: Today, dtype: float64\n",
      "Direction\n",
      "count     1250\n",
      "unique       2\n",
      "top         Up\n",
      "freq       648\n",
      "Name: Direction, dtype: object\n"
     ]
    }
   ],
   "source": [
    "for c in df.columns.values:\n",
    "    print(c)\n",
    "    print(df[c].describe())"
   ]
  },
  {
   "cell_type": "markdown",
   "metadata": {},
   "source": [
    "I: Display the number of data points"
   ]
  },
  {
   "cell_type": "code",
   "execution_count": 122,
   "metadata": {},
   "outputs": [
    {
     "data": {
      "text/plain": [
       "1250"
      ]
     },
     "execution_count": 122,
     "metadata": {},
     "output_type": "execute_result"
    }
   ],
   "source": [
    "len(df)"
   ]
  },
  {
   "cell_type": "markdown",
   "metadata": {},
   "source": [
    "I: Display the data in a table (subset of rows is sufficient)"
   ]
  },
  {
   "cell_type": "code",
   "execution_count": 123,
   "metadata": {},
   "outputs": [
    {
     "data": {
      "text/html": [
       "<div>\n",
       "<style scoped>\n",
       "    .dataframe tbody tr th:only-of-type {\n",
       "        vertical-align: middle;\n",
       "    }\n",
       "\n",
       "    .dataframe tbody tr th {\n",
       "        vertical-align: top;\n",
       "    }\n",
       "\n",
       "    .dataframe thead th {\n",
       "        text-align: right;\n",
       "    }\n",
       "</style>\n",
       "<table border=\"1\" class=\"dataframe\">\n",
       "  <thead>\n",
       "    <tr style=\"text-align: right;\">\n",
       "      <th></th>\n",
       "      <th>Year</th>\n",
       "      <th>Lag1</th>\n",
       "      <th>Lag2</th>\n",
       "      <th>Lag3</th>\n",
       "      <th>Lag4</th>\n",
       "      <th>Lag5</th>\n",
       "      <th>Volume</th>\n",
       "      <th>Today</th>\n",
       "      <th>Direction</th>\n",
       "    </tr>\n",
       "  </thead>\n",
       "  <tbody>\n",
       "    <tr>\n",
       "      <th>1</th>\n",
       "      <td>2001</td>\n",
       "      <td>0.381</td>\n",
       "      <td>-0.192</td>\n",
       "      <td>-2.624</td>\n",
       "      <td>-1.055</td>\n",
       "      <td>5.010</td>\n",
       "      <td>1.1913</td>\n",
       "      <td>0.959</td>\n",
       "      <td>Up</td>\n",
       "    </tr>\n",
       "    <tr>\n",
       "      <th>2</th>\n",
       "      <td>2001</td>\n",
       "      <td>0.959</td>\n",
       "      <td>0.381</td>\n",
       "      <td>-0.192</td>\n",
       "      <td>-2.624</td>\n",
       "      <td>-1.055</td>\n",
       "      <td>1.2965</td>\n",
       "      <td>1.032</td>\n",
       "      <td>Up</td>\n",
       "    </tr>\n",
       "    <tr>\n",
       "      <th>3</th>\n",
       "      <td>2001</td>\n",
       "      <td>1.032</td>\n",
       "      <td>0.959</td>\n",
       "      <td>0.381</td>\n",
       "      <td>-0.192</td>\n",
       "      <td>-2.624</td>\n",
       "      <td>1.4112</td>\n",
       "      <td>-0.623</td>\n",
       "      <td>Down</td>\n",
       "    </tr>\n",
       "    <tr>\n",
       "      <th>4</th>\n",
       "      <td>2001</td>\n",
       "      <td>-0.623</td>\n",
       "      <td>1.032</td>\n",
       "      <td>0.959</td>\n",
       "      <td>0.381</td>\n",
       "      <td>-0.192</td>\n",
       "      <td>1.2760</td>\n",
       "      <td>0.614</td>\n",
       "      <td>Up</td>\n",
       "    </tr>\n",
       "    <tr>\n",
       "      <th>5</th>\n",
       "      <td>2001</td>\n",
       "      <td>0.614</td>\n",
       "      <td>-0.623</td>\n",
       "      <td>1.032</td>\n",
       "      <td>0.959</td>\n",
       "      <td>0.381</td>\n",
       "      <td>1.2057</td>\n",
       "      <td>0.213</td>\n",
       "      <td>Up</td>\n",
       "    </tr>\n",
       "    <tr>\n",
       "      <th>6</th>\n",
       "      <td>2001</td>\n",
       "      <td>0.213</td>\n",
       "      <td>0.614</td>\n",
       "      <td>-0.623</td>\n",
       "      <td>1.032</td>\n",
       "      <td>0.959</td>\n",
       "      <td>1.3491</td>\n",
       "      <td>1.392</td>\n",
       "      <td>Up</td>\n",
       "    </tr>\n",
       "    <tr>\n",
       "      <th>7</th>\n",
       "      <td>2001</td>\n",
       "      <td>1.392</td>\n",
       "      <td>0.213</td>\n",
       "      <td>0.614</td>\n",
       "      <td>-0.623</td>\n",
       "      <td>1.032</td>\n",
       "      <td>1.4450</td>\n",
       "      <td>-0.403</td>\n",
       "      <td>Down</td>\n",
       "    </tr>\n",
       "    <tr>\n",
       "      <th>8</th>\n",
       "      <td>2001</td>\n",
       "      <td>-0.403</td>\n",
       "      <td>1.392</td>\n",
       "      <td>0.213</td>\n",
       "      <td>0.614</td>\n",
       "      <td>-0.623</td>\n",
       "      <td>1.4078</td>\n",
       "      <td>0.027</td>\n",
       "      <td>Up</td>\n",
       "    </tr>\n",
       "    <tr>\n",
       "      <th>9</th>\n",
       "      <td>2001</td>\n",
       "      <td>0.027</td>\n",
       "      <td>-0.403</td>\n",
       "      <td>1.392</td>\n",
       "      <td>0.213</td>\n",
       "      <td>0.614</td>\n",
       "      <td>1.1640</td>\n",
       "      <td>1.303</td>\n",
       "      <td>Up</td>\n",
       "    </tr>\n",
       "    <tr>\n",
       "      <th>10</th>\n",
       "      <td>2001</td>\n",
       "      <td>1.303</td>\n",
       "      <td>0.027</td>\n",
       "      <td>-0.403</td>\n",
       "      <td>1.392</td>\n",
       "      <td>0.213</td>\n",
       "      <td>1.2326</td>\n",
       "      <td>0.287</td>\n",
       "      <td>Up</td>\n",
       "    </tr>\n",
       "    <tr>\n",
       "      <th>11</th>\n",
       "      <td>2001</td>\n",
       "      <td>0.287</td>\n",
       "      <td>1.303</td>\n",
       "      <td>0.027</td>\n",
       "      <td>-0.403</td>\n",
       "      <td>1.392</td>\n",
       "      <td>1.3090</td>\n",
       "      <td>-0.498</td>\n",
       "      <td>Down</td>\n",
       "    </tr>\n",
       "    <tr>\n",
       "      <th>12</th>\n",
       "      <td>2001</td>\n",
       "      <td>-0.498</td>\n",
       "      <td>0.287</td>\n",
       "      <td>1.303</td>\n",
       "      <td>0.027</td>\n",
       "      <td>-0.403</td>\n",
       "      <td>1.2580</td>\n",
       "      <td>-0.189</td>\n",
       "      <td>Down</td>\n",
       "    </tr>\n",
       "    <tr>\n",
       "      <th>13</th>\n",
       "      <td>2001</td>\n",
       "      <td>-0.189</td>\n",
       "      <td>-0.498</td>\n",
       "      <td>0.287</td>\n",
       "      <td>1.303</td>\n",
       "      <td>0.027</td>\n",
       "      <td>1.0980</td>\n",
       "      <td>0.680</td>\n",
       "      <td>Up</td>\n",
       "    </tr>\n",
       "    <tr>\n",
       "      <th>14</th>\n",
       "      <td>2001</td>\n",
       "      <td>0.680</td>\n",
       "      <td>-0.189</td>\n",
       "      <td>-0.498</td>\n",
       "      <td>0.287</td>\n",
       "      <td>1.303</td>\n",
       "      <td>1.0531</td>\n",
       "      <td>0.701</td>\n",
       "      <td>Up</td>\n",
       "    </tr>\n",
       "    <tr>\n",
       "      <th>15</th>\n",
       "      <td>2001</td>\n",
       "      <td>0.701</td>\n",
       "      <td>0.680</td>\n",
       "      <td>-0.189</td>\n",
       "      <td>-0.498</td>\n",
       "      <td>0.287</td>\n",
       "      <td>1.1498</td>\n",
       "      <td>-0.562</td>\n",
       "      <td>Down</td>\n",
       "    </tr>\n",
       "    <tr>\n",
       "      <th>16</th>\n",
       "      <td>2001</td>\n",
       "      <td>-0.562</td>\n",
       "      <td>0.701</td>\n",
       "      <td>0.680</td>\n",
       "      <td>-0.189</td>\n",
       "      <td>-0.498</td>\n",
       "      <td>1.2953</td>\n",
       "      <td>0.546</td>\n",
       "      <td>Up</td>\n",
       "    </tr>\n",
       "    <tr>\n",
       "      <th>17</th>\n",
       "      <td>2001</td>\n",
       "      <td>0.546</td>\n",
       "      <td>-0.562</td>\n",
       "      <td>0.701</td>\n",
       "      <td>0.680</td>\n",
       "      <td>-0.189</td>\n",
       "      <td>1.1188</td>\n",
       "      <td>-1.747</td>\n",
       "      <td>Down</td>\n",
       "    </tr>\n",
       "    <tr>\n",
       "      <th>18</th>\n",
       "      <td>2001</td>\n",
       "      <td>-1.747</td>\n",
       "      <td>0.546</td>\n",
       "      <td>-0.562</td>\n",
       "      <td>0.701</td>\n",
       "      <td>0.680</td>\n",
       "      <td>1.0484</td>\n",
       "      <td>0.359</td>\n",
       "      <td>Up</td>\n",
       "    </tr>\n",
       "    <tr>\n",
       "      <th>19</th>\n",
       "      <td>2001</td>\n",
       "      <td>0.359</td>\n",
       "      <td>-1.747</td>\n",
       "      <td>0.546</td>\n",
       "      <td>-0.562</td>\n",
       "      <td>0.701</td>\n",
       "      <td>1.0130</td>\n",
       "      <td>-0.151</td>\n",
       "      <td>Down</td>\n",
       "    </tr>\n",
       "    <tr>\n",
       "      <th>20</th>\n",
       "      <td>2001</td>\n",
       "      <td>-0.151</td>\n",
       "      <td>0.359</td>\n",
       "      <td>-1.747</td>\n",
       "      <td>0.546</td>\n",
       "      <td>-0.562</td>\n",
       "      <td>1.0596</td>\n",
       "      <td>-0.841</td>\n",
       "      <td>Down</td>\n",
       "    </tr>\n",
       "  </tbody>\n",
       "</table>\n",
       "</div>"
      ],
      "text/plain": [
       "    Year   Lag1   Lag2   Lag3   Lag4   Lag5  Volume  Today Direction\n",
       "1   2001  0.381 -0.192 -2.624 -1.055  5.010  1.1913  0.959        Up\n",
       "2   2001  0.959  0.381 -0.192 -2.624 -1.055  1.2965  1.032        Up\n",
       "3   2001  1.032  0.959  0.381 -0.192 -2.624  1.4112 -0.623      Down\n",
       "4   2001 -0.623  1.032  0.959  0.381 -0.192  1.2760  0.614        Up\n",
       "5   2001  0.614 -0.623  1.032  0.959  0.381  1.2057  0.213        Up\n",
       "6   2001  0.213  0.614 -0.623  1.032  0.959  1.3491  1.392        Up\n",
       "7   2001  1.392  0.213  0.614 -0.623  1.032  1.4450 -0.403      Down\n",
       "8   2001 -0.403  1.392  0.213  0.614 -0.623  1.4078  0.027        Up\n",
       "9   2001  0.027 -0.403  1.392  0.213  0.614  1.1640  1.303        Up\n",
       "10  2001  1.303  0.027 -0.403  1.392  0.213  1.2326  0.287        Up\n",
       "11  2001  0.287  1.303  0.027 -0.403  1.392  1.3090 -0.498      Down\n",
       "12  2001 -0.498  0.287  1.303  0.027 -0.403  1.2580 -0.189      Down\n",
       "13  2001 -0.189 -0.498  0.287  1.303  0.027  1.0980  0.680        Up\n",
       "14  2001  0.680 -0.189 -0.498  0.287  1.303  1.0531  0.701        Up\n",
       "15  2001  0.701  0.680 -0.189 -0.498  0.287  1.1498 -0.562      Down\n",
       "16  2001 -0.562  0.701  0.680 -0.189 -0.498  1.2953  0.546        Up\n",
       "17  2001  0.546 -0.562  0.701  0.680 -0.189  1.1188 -1.747      Down\n",
       "18  2001 -1.747  0.546 -0.562  0.701  0.680  1.0484  0.359        Up\n",
       "19  2001  0.359 -1.747  0.546 -0.562  0.701  1.0130 -0.151      Down\n",
       "20  2001 -0.151  0.359 -1.747  0.546 -0.562  1.0596 -0.841      Down"
      ]
     },
     "execution_count": 123,
     "metadata": {},
     "output_type": "execute_result"
    }
   ],
   "source": [
    "df.head(20)"
   ]
  },
  {
   "cell_type": "markdown",
   "metadata": {},
   "source": [
    "I: Compute the pairwise correlation of the predictors in the data set"
   ]
  },
  {
   "cell_type": "code",
   "execution_count": 124,
   "metadata": {},
   "outputs": [
    {
     "name": "stdout",
     "output_type": "stream",
     "text": [
      "            Year      Lag1      Lag2      Lag3      Lag4      Lag5    Volume  \\\n",
      "Year    1.000000  0.029700  0.030596  0.033195  0.035689  0.029788  0.539006   \n",
      "Lag1    0.029700  1.000000 -0.026294 -0.010803 -0.002986 -0.005675  0.040910   \n",
      "Lag2    0.030596 -0.026294  1.000000 -0.025897 -0.010854 -0.003558 -0.043383   \n",
      "Lag3    0.033195 -0.010803 -0.025897  1.000000 -0.024051 -0.018808 -0.041824   \n",
      "Lag4    0.035689 -0.002986 -0.010854 -0.024051  1.000000 -0.027084 -0.048414   \n",
      "Lag5    0.029788 -0.005675 -0.003558 -0.018808 -0.027084  1.000000 -0.022002   \n",
      "Volume  0.539006  0.040910 -0.043383 -0.041824 -0.048414 -0.022002  1.000000   \n",
      "Today   0.030095 -0.026155 -0.010250 -0.002448 -0.006900 -0.034860  0.014592   \n",
      "\n",
      "           Today  \n",
      "Year    0.030095  \n",
      "Lag1   -0.026155  \n",
      "Lag2   -0.010250  \n",
      "Lag3   -0.002448  \n",
      "Lag4   -0.006900  \n",
      "Lag5   -0.034860  \n",
      "Volume  0.014592  \n",
      "Today   1.000000  \n"
     ]
    },
    {
     "data": {
      "text/plain": [
       "<Axes: >"
      ]
     },
     "execution_count": 124,
     "metadata": {},
     "output_type": "execute_result"
    },
    {
     "data": {
      "image/png": "[encoded data removed]",
      "text/plain": [
       "<Figure size 640x480 with 2 Axes>"
      ]
     },
     "metadata": {},
     "output_type": "display_data"
    }
   ],
   "source": [
    "import seaborn as sns\n",
    "predictors = df.columns[:-1]\n",
    "correlation = df[predictors].corr()\n",
    "print(correlation)\n",
    "sns.heatmap(correlation)"
   ]
  },
  {
   "cell_type": "markdown",
   "metadata": {},
   "source": [
    "I: Interprete the results"
   ]
  },
  {
   "cell_type": "markdown",
   "metadata": {},
   "source": [
    "In general, the correleations are very weak. The most values for the pairs are around 0 (very weak positive or negative correlation). There is one exception, i.e., Year and Volume, showing a moderate positive correlation. "
   ]
  },
  {
   "cell_type": "markdown",
   "metadata": {},
   "source": [
    "I: Plot the correlated predictors Volume and Year"
   ]
  },
  {
   "cell_type": "code",
   "execution_count": 125,
   "metadata": {},
   "outputs": [
    {
     "data": {
      "image/png": "[encoded data removed]",
      "text/plain": [
       "<Figure size 640x480 with 1 Axes>"
      ]
     },
     "metadata": {},
     "output_type": "display_data"
    }
   ],
   "source": [
    "import matplotlib.pyplot as plt\n",
    "\n",
    "sns.scatterplot(df, x=df['Year'], y=df['Volume'], )\n",
    "sns.regplot(df, x=df['Year'], y=df['Volume'])\n",
    "plt.xticks(range(df['Year'].min(), df['Year'].max()+1, 1))\n",
    "plt.title(f'Year --> Volume')\n",
    "plt.show()"
   ]
  },
  {
   "cell_type": "markdown",
   "metadata": {},
   "source": [
    "I: Interprete the results"
   ]
  },
  {
   "cell_type": "markdown",
   "metadata": {},
   "source": [
    "You can see the positive correlation by the regression line in the plot. However, even the correlation coefficient indicates a moderate positive correlation, the values of the volume are highly spreaded according to a specific year. There are especially some outliers in each of the year."
   ]
  },
  {
   "cell_type": "markdown",
   "metadata": {},
   "source": [
    "### I: 2. Perform logistic regressions"
   ]
  },
  {
   "cell_type": "markdown",
   "metadata": {},
   "source": [
    "I: Fit a logistic regression model in order to predict Direction using Lag1 through Lag5 and Volume"
   ]
  },
  {
   "cell_type": "code",
   "execution_count": 126,
   "metadata": {},
   "outputs": [
    {
     "name": "stdout",
     "output_type": "stream",
     "text": [
      "                 Generalized Linear Model Regression Results                  \n",
      "==============================================================================\n",
      "Dep. Variable:              Direction   No. Observations:                 1250\n",
      "Model:                            GLM   Df Residuals:                     1244\n",
      "Model Family:                Binomial   Df Model:                            5\n",
      "Link Function:                  Logit   Scale:                          1.0000\n",
      "Method:                          IRLS   Log-Likelihood:                -863.93\n",
      "Date:                Sun, 18 Feb 2024   Deviance:                       1727.9\n",
      "Time:                        23:18:33   Pearson chi2:                 1.25e+03\n",
      "No. Iterations:                     4   Pseudo R-squ. (CS):           0.002650\n",
      "Covariance Type:            nonrobust                                         \n",
      "==============================================================================\n",
      "                 coef    std err          z      P>|z|      [0.025      0.975]\n",
      "------------------------------------------------------------------------------\n",
      "Lag1          -0.0721      0.050     -1.438      0.150      -0.170       0.026\n",
      "Lag2          -0.0434      0.050     -0.868      0.386      -0.141       0.055\n",
      "Lag3           0.0100      0.050      0.200      0.842      -0.088       0.108\n",
      "Lag4           0.0081      0.050      0.162      0.872      -0.090       0.106\n",
      "Lag5           0.0097      0.049      0.196      0.845      -0.087       0.107\n",
      "Volume         0.0549      0.037      1.473      0.141      -0.018       0.128\n",
      "==============================================================================\n"
     ]
    }
   ],
   "source": [
    "import statsmodels.api as sm\n",
    "X = df[[\"Lag1\", \"Lag2\", \"Lag3\", \"Lag4\", \"Lag5\", \"Volume\"]]\n",
    "y = df['Direction'] == 'Up'\n",
    "\n",
    "mod1 = sm.GLM(y, X, family=sm.families.Binomial()).fit()\n",
    "print(mod1.summary())"
   ]
  },
  {
   "cell_type": "markdown",
   "metadata": {},
   "source": [
    "I: Interprete the results"
   ]
  },
  {
   "cell_type": "markdown",
   "metadata": {},
   "source": [
    "According to the p values, non of the choosen predictor is useful in this case, since all p values are over 5%. Even the whole model is very weak, since the R² value is very low (0.002868)."
   ]
  },
  {
   "cell_type": "markdown",
   "metadata": {},
   "source": [
    "### I: 3. Use the logistic regression models"
   ]
  },
  {
   "cell_type": "markdown",
   "metadata": {},
   "source": [
    "I: Predict the probability that the market will go up, given values of the predictors."
   ]
  },
  {
   "cell_type": "code",
   "execution_count": 127,
   "metadata": {},
   "outputs": [
    {
     "data": {
      "text/plain": [
       "1       0.515030\n",
       "2       0.488057\n",
       "3       0.484582\n",
       "4       0.520219\n",
       "5       0.517673\n",
       "          ...   \n",
       "1246    0.513652\n",
       "1247    0.511458\n",
       "1248    0.539304\n",
       "1249    0.529084\n",
       "1250    0.521650\n",
       "Length: 1250, dtype: float64"
      ]
     },
     "execution_count": 127,
     "metadata": {},
     "output_type": "execute_result"
    }
   ],
   "source": [
    "pred = mod1.predict(X)\n",
    "pred"
   ]
  },
  {
   "cell_type": "markdown",
   "metadata": {},
   "source": [
    "I: Convert the probabilities to labels"
   ]
  },
  {
   "cell_type": "code",
   "execution_count": 128,
   "metadata": {},
   "outputs": [
    {
     "data": {
      "text/plain": [
       "array(['Up', 'Down', 'Down', ..., 'Up', 'Up', 'Up'], dtype='<U4')"
      ]
     },
     "execution_count": 128,
     "metadata": {},
     "output_type": "execute_result"
    }
   ],
   "source": [
    "import numpy as np\n",
    "\n",
    "pred_labels = np.array(['Down'] * len(pred))\n",
    "pred_labels[pred > 0.5] = \"Up\"\n",
    "\n",
    "pred_labels"
   ]
  },
  {
   "cell_type": "markdown",
   "metadata": {},
   "source": [
    "I: Compute and a confusion maytrix in order to determine how many observations were correctly or incorrectly classified."
   ]
  },
  {
   "cell_type": "code",
   "execution_count": 129,
   "metadata": {},
   "outputs": [
    {
     "name": "stdout",
     "output_type": "stream",
     "text": [
      "Truth      Down   Up\n",
      "Predicted           \n",
      "Down        100   93\n",
      "Up          502  555\n"
     ]
    },
    {
     "data": {
      "text/plain": [
       "0.524"
      ]
     },
     "execution_count": 129,
     "metadata": {},
     "output_type": "execute_result"
    }
   ],
   "source": [
    "from ISLP import confusion_table\n",
    "\n",
    "print(confusion_table(pred_labels, df['Direction']))\n",
    "np.mean(pred_labels == df['Direction'])"
   ]
  },
  {
   "cell_type": "markdown",
   "metadata": {},
   "source": [
    "I: Interprete the results"
   ]
  },
  {
   "cell_type": "code",
   "execution_count": null,
   "metadata": {},
   "outputs": [],
   "source": []
  },
  {
   "cell_type": "markdown",
   "metadata": {},
   "source": [
    "I: Recall the low p values of the predictors. Check if a subset of predictors gives better results"
   ]
  },
  {
   "cell_type": "code",
   "execution_count": 130,
   "metadata": {},
   "outputs": [
    {
     "name": "stdout",
     "output_type": "stream",
     "text": [
      "                 Generalized Linear Model Regression Results                  \n",
      "==============================================================================\n",
      "Dep. Variable:              Direction   No. Observations:                 1250\n",
      "Model:                            GLM   Df Residuals:                     1248\n",
      "Model Family:                Binomial   Df Model:                            1\n",
      "Link Function:                  Logit   Scale:                          1.0000\n",
      "Method:                          IRLS   Log-Likelihood:                -865.06\n",
      "Date:                Sun, 18 Feb 2024   Deviance:                       1730.1\n",
      "Time:                        23:18:34   Pearson chi2:                 1.25e+03\n",
      "No. Iterations:                     4   Pseudo R-squ. (CS):          0.0008425\n",
      "Covariance Type:            nonrobust                                         \n",
      "==============================================================================\n",
      "                 coef    std err          z      P>|z|      [0.025      0.975]\n",
      "------------------------------------------------------------------------------\n",
      "Lag1          -0.0712      0.050     -1.422      0.155      -0.169       0.027\n",
      "Lag2          -0.0442      0.050     -0.884      0.377      -0.142       0.054\n",
      "==============================================================================\n",
      "Truth      Down   Up\n",
      "Predicted           \n",
      "Down        332  319\n",
      "Up          270  329\n"
     ]
    },
    {
     "data": {
      "text/plain": [
       "0.5288"
      ]
     },
     "execution_count": 130,
     "metadata": {},
     "output_type": "execute_result"
    }
   ],
   "source": [
    "X = df[[\"Lag1\", \"Lag2\"]]\n",
    "y = df['Direction'] == 'Up'\n",
    "\n",
    "mod2 = sm.GLM(y, X, family=sm.families.Binomial()).fit()\n",
    "print(mod2.summary())\n",
    "\n",
    "pred = mod2.predict(X)\n",
    "pred_labels = np.array(['Down'] * len(pred))\n",
    "pred_labels[pred > 0.5] = \"Up\"\n",
    "\n",
    "print(confusion_table(pred_labels, df['Direction']))\n",
    "np.mean(pred_labels == df['Direction'])"
   ]
  },
  {
   "cell_type": "markdown",
   "metadata": {},
   "source": [
    "I: Interprete the results"
   ]
  },
  {
   "cell_type": "markdown",
   "metadata": {},
   "source": []
  },
  {
   "cell_type": "markdown",
   "metadata": {},
   "source": [
    "### I: 4. Perform LDA"
   ]
  },
  {
   "cell_type": "markdown",
   "metadata": {},
   "source": [
    "I: Now perform an LDA on the Smarket data and analyze the result."
   ]
  },
  {
   "cell_type": "code",
   "execution_count": 131,
   "metadata": {},
   "outputs": [
    {
     "name": "stdout",
     "output_type": "stream",
     "text": [
      "classes: [False  True]\n",
      "means of classes: [[ 0.05068605  0.03229734]\n",
      " [-0.03969136 -0.02244444]]\n",
      "priors probabilities: [0.4816 0.5184]\n",
      "coefficients: [[-0.07126095 -0.04433204]]\n"
     ]
    },
    {
     "data": {
      "image/png": "[encoded data removed]",
      "text/plain": [
       "<Figure size 640x480 with 1 Axes>"
      ]
     },
     "metadata": {},
     "output_type": "display_data"
    },
    {
     "data": {
      "image/png": "[encoded data removed]",
      "text/plain": [
       "<Figure size 640x480 with 1 Axes>"
      ]
     },
     "metadata": {},
     "output_type": "display_data"
    }
   ],
   "source": [
    "from sklearn. discriminant_analysis import LinearDiscriminantAnalysis as LDA\n",
    "\n",
    "\n",
    "lda = LDA(store_covariance=True)\n",
    "mod3 = lda.fit(X,y)\n",
    "\n",
    "\n",
    "print(f'classes: {mod3.classes_}')\n",
    "print(f'means of classes: {mod3.means_}')\n",
    "print(f'priors probabilities: {mod3.priors_}')\n",
    "print(f'coefficients: {mod3.coef_}')\n",
    "\n",
    "\n",
    "ups = np.sum(df[df['Direction'] == \"Up\"][['Lag1', 'Lag2']].values * mod3.coef_ , axis=1)\n",
    "sns.histplot(ups, stat=\"proportion\", bins=17)\n",
    "plt.title('group Up')\n",
    "plt.show()\n",
    "\n",
    "downs = np.sum(df[df['Direction'] == \"Down\"][['Lag1', 'Lag2']].values * mod3.coef_ , axis=1)\n",
    "sns.histplot(downs, stat=\"proportion\", bins=17)\n",
    "plt.title('group Down')\n",
    "plt.show()"
   ]
  },
  {
   "cell_type": "markdown",
   "metadata": {},
   "source": [
    "I: Interprete the results"
   ]
  },
  {
   "cell_type": "markdown",
   "metadata": {},
   "source": []
  },
  {
   "cell_type": "markdown",
   "metadata": {},
   "source": [
    "### I: 5. Use the LDA model"
   ]
  },
  {
   "cell_type": "markdown",
   "metadata": {},
   "source": [
    "I: Predict the Direction as a response for the selected predictor values using the trained LDA model."
   ]
  },
  {
   "cell_type": "code",
   "execution_count": 132,
   "metadata": {},
   "outputs": [
    {
     "name": "stdout",
     "output_type": "stream",
     "text": [
      "Truth      False  True \n",
      "Predicted              \n",
      "False        114    102\n",
      "True         488    546\n"
     ]
    },
    {
     "data": {
      "text/plain": [
       "0.528"
      ]
     },
     "execution_count": 132,
     "metadata": {},
     "output_type": "execute_result"
    }
   ],
   "source": [
    "pred = mod3.predict(X)\n",
    "\n",
    "print(confusion_table(pred, y))\n",
    "\n",
    "np.mean(pred == y)"
   ]
  },
  {
   "cell_type": "markdown",
   "metadata": {},
   "source": [
    "I: Interprete the results"
   ]
  },
  {
   "cell_type": "markdown",
   "metadata": {},
   "source": []
  },
  {
   "cell_type": "markdown",
   "metadata": {},
   "source": [
    "### I: 6. Perform a QDA"
   ]
  },
  {
   "cell_type": "markdown",
   "metadata": {},
   "source": [
    "I: Now perform a QDA on the Smarket data and analyze the result."
   ]
  },
  {
   "cell_type": "code",
   "execution_count": 133,
   "metadata": {},
   "outputs": [
    {
     "name": "stdout",
     "output_type": "stream",
     "text": [
      "    False   True \n",
      "0  0.4816  0.5184\n",
      "         False     True \n",
      "Lag1  0.050686 -0.039691\n",
      "Lag2  0.032297 -0.022444\n"
     ]
    }
   ],
   "source": [
    "from sklearn. discriminant_analysis import QuadraticDiscriminantAnalysis as QDA\n",
    "\n",
    "\n",
    "mod4 = QDA(store_covariance=True)\n",
    "mod4.fit(X, y)\n",
    "\n",
    "means = pd.DataFrame(data={mod4.classes_[0] : mod4.means_[0],\n",
    "                           mod4.classes_[1] : mod4.means_[1]},\n",
    "                           index = X.columns.values)\n",
    "\n",
    "priors = pd.DataFrame(data={mod4.classes_[0] : [mod4.priors_[0]],\n",
    "                           mod4.classes_[1] : [mod4.priors_[1]]})\n",
    "\n",
    "print(priors.head())\n",
    "print(means.head())"
   ]
  },
  {
   "cell_type": "markdown",
   "metadata": {},
   "source": [
    "I: Interprete the results"
   ]
  },
  {
   "cell_type": "markdown",
   "metadata": {},
   "source": []
  },
  {
   "cell_type": "markdown",
   "metadata": {},
   "source": [
    "### I: 7. Use the QDA model"
   ]
  },
  {
   "cell_type": "markdown",
   "metadata": {},
   "source": [
    "I: Predict the Direction as a response for the selected predictor values using the trained QDA model. Compute and analyze a confusion matrix."
   ]
  },
  {
   "cell_type": "code",
   "execution_count": 134,
   "metadata": {},
   "outputs": [
    {
     "name": "stdout",
     "output_type": "stream",
     "text": [
      "Truth      False  True \n",
      "Predicted              \n",
      "False        109     94\n",
      "True         493    554\n"
     ]
    },
    {
     "data": {
      "text/plain": [
       "0.5304"
      ]
     },
     "execution_count": 134,
     "metadata": {},
     "output_type": "execute_result"
    }
   ],
   "source": [
    "pred = mod4.predict(X)\n",
    "\n",
    "\n",
    "print(confusion_table(pred, y))\n",
    "\n",
    "np.mean(pred == y)"
   ]
  },
  {
   "cell_type": "markdown",
   "metadata": {},
   "source": [
    "I: Interprete the results"
   ]
  },
  {
   "cell_type": "markdown",
   "metadata": {},
   "source": []
  },
  {
   "cell_type": "markdown",
   "metadata": {},
   "source": [
    "### I: 8. Use 𝐾 -Nearest Neighbors Clustering"
   ]
  },
  {
   "cell_type": "markdown",
   "metadata": {},
   "source": [
    "I: Create a training data set used to find the K nearest neighbors of a data point and their actual classes."
   ]
  },
  {
   "cell_type": "code",
   "execution_count": 135,
   "metadata": {},
   "outputs": [
    {
     "data": {
      "text/plain": [
       "252"
      ]
     },
     "execution_count": 135,
     "metadata": {},
     "output_type": "execute_result"
    }
   ],
   "source": [
    "train = df[df['Year'] < 2005]\n",
    "test = df[df['Year'] >= 2005]\n",
    "len(test)"
   ]
  },
  {
   "cell_type": "code",
   "execution_count": 140,
   "metadata": {},
   "outputs": [],
   "source": [
    "X_train = train[['Lag1', 'Lag2']]\n",
    "X_test = test[['Lag1', 'Lag2']]\n",
    "y_train = train[\"Direction\"]\n",
    "y_test = test[\"Direction\"]"
   ]
  },
  {
   "cell_type": "markdown",
   "metadata": {},
   "source": [
    "I: Use and analyze KNN for K=1"
   ]
  },
  {
   "cell_type": "code",
   "execution_count": 141,
   "metadata": {},
   "outputs": [
    {
     "name": "stdout",
     "output_type": "stream",
     "text": [
      "Truth      Down  Up\n",
      "Predicted          \n",
      "Down         43  58\n",
      "Up           68  83\n"
     ]
    },
    {
     "data": {
      "text/plain": [
       "0.5"
      ]
     },
     "execution_count": 141,
     "metadata": {},
     "output_type": "execute_result"
    }
   ],
   "source": [
    "from sklearn.neighbors import KNeighborsClassifier\n",
    "\n",
    "knn1 = KNeighborsClassifier(n_neighbors=1)\n",
    "knn1.fit(X_train, y_train)\n",
    "\n",
    "pred = knn1.predict(X_test)\n",
    "\n",
    "print(confusion_table(pred, y_test))\n",
    "\n",
    "np.mean(pred == y_test)"
   ]
  },
  {
   "cell_type": "markdown",
   "metadata": {},
   "source": [
    "I: Use and analyze KNN for K=3"
   ]
  },
  {
   "cell_type": "code",
   "execution_count": 142,
   "metadata": {},
   "outputs": [
    {
     "name": "stdout",
     "output_type": "stream",
     "text": [
      "Truth      Down  Up\n",
      "Predicted          \n",
      "Down         48  55\n",
      "Up           63  86\n"
     ]
    },
    {
     "data": {
      "text/plain": [
       "0.5317460317460317"
      ]
     },
     "execution_count": 142,
     "metadata": {},
     "output_type": "execute_result"
    }
   ],
   "source": [
    "knn3 = KNeighborsClassifier(n_neighbors=3)\n",
    "knn3.fit(X_train, y_train)\n",
    "\n",
    "pred = knn3.predict(X_test)\n",
    "\n",
    "print(confusion_table(pred, y_test))\n",
    "\n",
    "np.mean(pred == y_test)"
   ]
  },
  {
   "cell_type": "markdown",
   "metadata": {},
   "source": [
    "I: Interprete the results"
   ]
  },
  {
   "cell_type": "markdown",
   "metadata": {},
   "source": []
  }
 ],
 "metadata": {
  "kernelspec": {
   "display_name": "local",
   "language": "python",
   "name": "python3"
  },
  "language_info": {
   "codemirror_mode": {
    "name": "ipython",
    "version": 3
   },
   "file_extension": ".py",
   "mimetype": "text/x-python",
   "name": "python",
   "nbconvert_exporter": "python",
   "pygments_lexer": "ipython3",
   "version": "3.10.12"
  }
 },
 "nbformat": 4,
 "nbformat_minor": 2
}
